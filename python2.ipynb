{
  "nbformat": 4,
  "nbformat_minor": 0,
  "metadata": {
    "colab": {
      "provenance": [],
      "authorship_tag": "ABX9TyNPeGS9Wu3Fzkd1KrtAK4GD",
      "include_colab_link": true
    },
    "kernelspec": {
      "name": "python3",
      "display_name": "Python 3"
    },
    "language_info": {
      "name": "python"
    }
  },
  "cells": [
    {
      "cell_type": "markdown",
      "metadata": {
        "id": "view-in-github",
        "colab_type": "text"
      },
      "source": [
        "<a href=\"https://colab.research.google.com/github/CheboluGayatri/CheboluGayatri/blob/main/python2.ipynb\" target=\"_parent\"><img src=\"https://colab.research.google.com/assets/colab-badge.svg\" alt=\"Open In Colab\"/></a>"
      ]
    },
    {
      "cell_type": "markdown",
      "source": [
        "**Take Multiple Input in Python**\n"
      ],
      "metadata": {
        "id": "Mbdi9hthU5MP"
      }
    },
    {
      "cell_type": "code",
      "source": [
        "# take two inputs at a time\n",
        "x,y=input(\"enter two values\").split()\n",
        "print(\"no of boys:\",x)\n",
        "print(\"no of girls:\",y)"
      ],
      "metadata": {
        "colab": {
          "base_uri": "https://localhost:8080/"
        },
        "id": "KlPOTHJ6U9_6",
        "outputId": "8852b926-1a27-4f64-c1f7-04e134b0d054"
      },
      "execution_count": 3,
      "outputs": [
        {
          "output_type": "stream",
          "name": "stdout",
          "text": [
            "enter two values10 20\n",
            "no of boys: 10\n",
            "no of girls: 20\n"
          ]
        }
      ]
    },
    {
      "cell_type": "code",
      "source": [
        "# take three inputs at a time\n",
        "x,y,z=input(\"enter total valus:\").split()\n",
        "print(\"Total no of students:\",x)\n",
        "print(\"no of boys:\",y)\n",
        "print(\"no of girls:\",z)"
      ],
      "metadata": {
        "colab": {
          "base_uri": "https://localhost:8080/"
        },
        "id": "D55S4SGwVpRW",
        "outputId": "ca020926-f5bb-4a52-c6ee-11e84ef1bacb"
      },
      "execution_count": 4,
      "outputs": [
        {
          "output_type": "stream",
          "name": "stdout",
          "text": [
            "enter total valus:30 10 20\n",
            "Total no of students: 30\n",
            "no of boys: 10\n",
            "no of girls: 20\n"
          ]
        }
      ]
    },
    {
      "cell_type": "markdown",
      "source": [
        "**How to Change the Type of Input in Python**"
      ],
      "metadata": {
        "id": "3KKmA9qOWJTN"
      }
    },
    {
      "cell_type": "code",
      "source": [
        "# Take input as a string\n",
        "color=input(\"What color is rose:\")\n",
        "print(color)"
      ],
      "metadata": {
        "colab": {
          "base_uri": "https://localhost:8080/"
        },
        "id": "PwrSXOtaWLXl",
        "outputId": "b6930260-28e7-4506-a877-85df73f8d78b"
      },
      "execution_count": 5,
      "outputs": [
        {
          "output_type": "stream",
          "name": "stdout",
          "text": [
            "What color is rose:red\n",
            "red\n"
          ]
        }
      ]
    },
    {
      "cell_type": "code",
      "source": [
        "#Print Numbers in Python\n",
        "n=int(input(\"How many roses:\"))\n",
        "print(n)"
      ],
      "metadata": {
        "colab": {
          "base_uri": "https://localhost:8080/"
        },
        "id": "ZbOyResBWY-p",
        "outputId": "60e01551-f45c-4398-c3c0-c1ed0eab88f7"
      },
      "execution_count": 6,
      "outputs": [
        {
          "output_type": "stream",
          "name": "stdout",
          "text": [
            "How many roses:100\n",
            "100\n"
          ]
        }
      ]
    },
    {
      "cell_type": "code",
      "source": [
        "#Print Float/Decimal Number in Python\n",
        "price=float(input(\"price of rose:\"))\n",
        "print(price)"
      ],
      "metadata": {
        "colab": {
          "base_uri": "https://localhost:8080/"
        },
        "id": "3GG7YYsEWpEQ",
        "outputId": "3d71e544-8adc-49a5-c805-ff974f39a9c1"
      },
      "execution_count": 7,
      "outputs": [
        {
          "output_type": "stream",
          "name": "stdout",
          "text": [
            "price of rose:50.35\n",
            "50.35\n"
          ]
        }
      ]
    },
    {
      "cell_type": "markdown",
      "source": [
        "**Find DataType of Input in Python**"
      ],
      "metadata": {
        "id": "Z58CfKWIXI2-"
      }
    },
    {
      "cell_type": "code",
      "source": [
        "a=\"Hello world\"\n",
        "b=10\n",
        "c=11.22\n",
        "d=(\"Greeks\",\"for\",\"Greeks\")\n",
        "e=[\"Greeks\",\"for\",\"Greeks\"]\n",
        "f={\"Greeks\",\"for\",\"Greeks\"}\n",
        "print(type(a))\n",
        "print(type(b))\n",
        "print(type(c))\n",
        "print(type(d))\n",
        "print(type(e))\n",
        "print(type(f))"
      ],
      "metadata": {
        "colab": {
          "base_uri": "https://localhost:8080/"
        },
        "id": "_wjOq6aKWvqL",
        "outputId": "b23dbd8e-7748-4dd1-8402-b196a670eb4a"
      },
      "execution_count": 9,
      "outputs": [
        {
          "output_type": "stream",
          "name": "stdout",
          "text": [
            "<class 'str'>\n",
            "<class 'int'>\n",
            "<class 'float'>\n",
            "<class 'tuple'>\n",
            "<class 'list'>\n",
            "<class 'set'>\n"
          ]
        }
      ]
    },
    {
      "cell_type": "markdown",
      "source": [
        "**Output Formatting**"
      ],
      "metadata": {
        "id": "1oSml87pX4Vw"
      }
    },
    {
      "cell_type": "markdown",
      "source": [
        "**1.Using Format()**"
      ],
      "metadata": {
        "id": "5duXx51CajoV"
      }
    },
    {
      "cell_type": "code",
      "source": [
        "#1. Using Format()\n",
        "amount=100\n",
        "print(\"Amount: ${:.2f}\".format(amount))"
      ],
      "metadata": {
        "colab": {
          "base_uri": "https://localhost:8080/"
        },
        "id": "4g05y8v0X6a0",
        "outputId": "69154386-7d19-48be-cbab-eb58f495324d"
      },
      "execution_count": 13,
      "outputs": [
        {
          "output_type": "stream",
          "name": "stdout",
          "text": [
            "Amount: $100.00\n"
          ]
        }
      ]
    },
    {
      "cell_type": "markdown",
      "source": [
        "**2.Using sep and end parameter**"
      ],
      "metadata": {
        "id": "AAqjvPm7aoBP"
      }
    },
    {
      "cell_type": "code",
      "source": [
        "#2. Using sep and end parameter\n",
        "print(\"Python\", end='@')\n",
        "print(\"Greeks for greek\")\n",
        "# separating with comma\n",
        "print('G','F','H',sep=',')\n",
        "#for formatting with date\n",
        "print('09','12','2016',sep='-')\n",
        "#another example\n",
        "print('pratik', 'geeksforgeeks', sep='@')"
      ],
      "metadata": {
        "colab": {
          "base_uri": "https://localhost:8080/"
        },
        "id": "XC57vOqEYkR2",
        "outputId": "d969790d-91bd-4eb8-9843-9d1a729c32ee"
      },
      "execution_count": 18,
      "outputs": [
        {
          "output_type": "stream",
          "name": "stdout",
          "text": [
            "Python@Greeks for greek\n",
            "G,F,H\n",
            "09-12-2016\n",
            "pratik@geeksforgeeks\n"
          ]
        }
      ]
    },
    {
      "cell_type": "markdown",
      "source": [
        "**3.Using f-string**"
      ],
      "metadata": {
        "id": "rHNAXFU3aeaQ"
      }
    },
    {
      "cell_type": "code",
      "source": [
        "3.#Using f-string\n",
        "name='Lakshmi'\n",
        "age=23\n",
        "print(f\"Hello, my name is {name} and I'm {age} years old\")"
      ],
      "metadata": {
        "colab": {
          "base_uri": "https://localhost:8080/"
        },
        "id": "F-kVJvsKZSnh",
        "outputId": "1028349b-0909-4b78-a956-2cf66c2d12d2"
      },
      "execution_count": 21,
      "outputs": [
        {
          "output_type": "stream",
          "name": "stdout",
          "text": [
            "Hello, my name is Lakshmi and I'm 23 years old\n"
          ]
        }
      ]
    },
    {
      "cell_type": "markdown",
      "source": [
        "**4.Using % Operator**\n",
        "\n",
        "We can use '%' operator. % values are replaced with zero or more value of elements. The formatting using % is similar to that of ‘printf’ in the C programming language.\n",
        "\n",
        "\n",
        "%d –integer\n",
        "\n",
        "%f – float\n",
        "\n",
        "%s – string\n",
        "\n",
        "%x –hexadecimal\n",
        "\n",
        "%o – octal"
      ],
      "metadata": {
        "id": "80X_cgmvaNt9"
      }
    },
    {
      "cell_type": "code",
      "source": [
        "# Taking input from the user\n",
        "num = int(input(\"Enter a value: \"))\n",
        "\n",
        "add = num + 5\n",
        "\n",
        "# Output\n",
        "print(\"The sum is %d\" %add)"
      ],
      "metadata": {
        "colab": {
          "base_uri": "https://localhost:8080/"
        },
        "id": "G1Q0uczGaaIh",
        "outputId": "eb9ff1ab-c36b-4b6d-cba6-f0dc37fbc428"
      },
      "execution_count": 22,
      "outputs": [
        {
          "output_type": "stream",
          "name": "stdout",
          "text": [
            "Enter a value: 10\n",
            "The sum is 15\n"
          ]
        }
      ]
    },
    {
      "cell_type": "markdown",
      "source": [
        "**Taking Conditional User Input in Python**\n",
        "\n",
        "In Python, taking conditional user input means getting input from the user and making decisions based on that input. You usually use the input() function to get the value and then use if-else statements to check conditions.\n",
        "\n",
        "\n",
        "input() is used to take user input as a string.\n",
        "\n",
        "You can use int() or float() to convert it if needed.\n",
        "\n",
        "Use if, elif, and else to apply conditions to the input."
      ],
      "metadata": {
        "id": "P-gtdI8Da-dn"
      }
    },
    {
      "cell_type": "code",
      "source": [
        "#print() in python\n",
        "print(\"hello\")\n",
        "print(\"welcome\",\"to\",\"the\",\"web\")\n",
        "print()\n",
        "print(\"hope you are enjoying class\")"
      ],
      "metadata": {
        "colab": {
          "base_uri": "https://localhost:8080/"
        },
        "id": "_KG0O7ENbPLC",
        "outputId": "9419eee1-c144-4c97-ea16-a9979266a297"
      },
      "execution_count": 24,
      "outputs": [
        {
          "output_type": "stream",
          "name": "stdout",
          "text": [
            "hello\n",
            "welcome to the web\n",
            "\n",
            "hope you are enjoying class\n"
          ]
        }
      ]
    },
    {
      "cell_type": "code",
      "source": [
        "name=input(\"enter you name:\")\n",
        "print(\"welcome\" + name)"
      ],
      "metadata": {
        "colab": {
          "base_uri": "https://localhost:8080/"
        },
        "id": "dUjQK_DGb_a0",
        "outputId": "b0bb0fb9-df11-4116-b43b-3eee6929d672"
      },
      "execution_count": 27,
      "outputs": [
        {
          "output_type": "stream",
          "name": "stdout",
          "text": [
            "enter you name: Gayi\n",
            "welcomeGayi\n"
          ]
        }
      ]
    }
  ]
}