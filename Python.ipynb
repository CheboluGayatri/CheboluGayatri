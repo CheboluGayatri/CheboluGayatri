{
  "nbformat": 4,
  "nbformat_minor": 0,
  "metadata": {
    "colab": {
      "provenance": [],
      "authorship_tag": "ABX9TyMZIUmUj8w70ZJNGqTYV6aQ",
      "include_colab_link": true
    },
    "kernelspec": {
      "name": "python3",
      "display_name": "Python 3"
    },
    "language_info": {
      "name": "python"
    }
  },
  "cells": [
    {
      "cell_type": "markdown",
      "metadata": {
        "id": "view-in-github",
        "colab_type": "text"
      },
      "source": [
        "<a href=\"https://colab.research.google.com/github/CheboluGayatri/CheboluGayatri/blob/main/Python.ipynb\" target=\"_parent\"><img src=\"https://colab.research.google.com/assets/colab-badge.svg\" alt=\"Open In Colab\"/></a>"
      ]
    },
    {
      "cell_type": "markdown",
      "source": [
        "**Python Introducton**\n",
        "\n",
        "Python was created by Guido van Rossum in 1991 and further developed by the Python Software Foundation. It was designed with focus on code readability and its syntax allows us to express concepts in fewer lines of code."
      ],
      "metadata": {
        "id": "ELp_LhuzEuiz"
      }
    },
    {
      "cell_type": "markdown",
      "source": [
        "**Key Features of Python**\n",
        "\n",
        "Python’s simple and readable syntax makes it beginner-friendly.\n",
        "\n",
        "Python runs seamlessly on Windows, macOS and Linux.\n",
        "\n",
        "Includes libraries for tasks like web development, data analysis and machine learning.\n",
        "\n",
        "Variable types are determined automatically at runtime, simplifying code writing.\n",
        "\n",
        "Supports multiple programming paradigms, including object-oriented, functional and procedural programming.\n",
        "\n",
        "Python is free to use, distribute and modify."
      ],
      "metadata": {
        "id": "se1gYWPrFF5u"
      }
    },
    {
      "cell_type": "markdown",
      "source": [
        "**Understanding Hello World Program in Python**"
      ],
      "metadata": {
        "id": "uBvFmKbdFRR7"
      }
    },
    {
      "cell_type": "code",
      "source": [
        "print(\"Hello, World!\")"
      ],
      "metadata": {
        "colab": {
          "base_uri": "https://localhost:8080/"
        },
        "id": "jHKawIsuFVo0",
        "outputId": "efbc07b4-de8b-4c59-d662-e22237007d09"
      },
      "execution_count": null,
      "outputs": [
        {
          "output_type": "stream",
          "name": "stdout",
          "text": [
            "Hello, World!\n"
          ]
        }
      ]
    },
    {
      "cell_type": "markdown",
      "source": [
        "**Indentation in Python**"
      ],
      "metadata": {
        "id": "AlyKWVNUG_L_"
      }
    },
    {
      "cell_type": "code",
      "source": [
        "print(\"I have no indentation\")\n",
        "    #print(\"I have tab indentaion\") it gives unexpected indentent"
      ],
      "metadata": {
        "id": "jkPCql3bG-lh",
        "colab": {
          "base_uri": "https://localhost:8080/"
        },
        "outputId": "0ed99c63-5718-46be-a4f4-1cf4fa931c70"
      },
      "execution_count": 6,
      "outputs": [
        {
          "output_type": "stream",
          "name": "stdout",
          "text": [
            "I have no indentation\n"
          ]
        }
      ]
    },
    {
      "cell_type": "markdown",
      "source": [
        "**Keywords**\n",
        "\n",
        " reservewords\n",
        "\n",
        " for, while, True, False, if, else, del,and, or, not, etc.."
      ],
      "metadata": {
        "id": "htTHKYf0HwPA"
      }
    },
    {
      "cell_type": "markdown",
      "source": [
        "**Variables**\n",
        "\n",
        "user defined\n",
        "\n",
        "to store some data\n",
        "\n",
        "x=5"
      ],
      "metadata": {
        "id": "cP2Wlg1aIP7F"
      }
    },
    {
      "cell_type": "markdown",
      "source": [
        "**Functions**\n",
        "\n",
        "A sequence of instructions that perform a specific task\n",
        "\n",
        "print(\"gfg\")\n",
        "\n",
        "input() function takes input from user\n",
        "\n",
        "functions can be library functions\n",
        "\n"
      ],
      "metadata": {
        "id": "VJlj7ANlIg6F"
      }
    },
    {
      "cell_type": "markdown",
      "source": [
        "**Class and Object**\n",
        "\n",
        "**Class**\n",
        "\n",
        " it is a blue print of object\n",
        "\n",
        "A type like student and teacher etc...\n",
        "\n",
        "**object**\n",
        "\n",
        "instance of class\n",
        "\n"
      ],
      "metadata": {
        "id": "Jc5NmYxzJLAm"
      }
    },
    {
      "cell_type": "code",
      "source": [
        "x=10 # it is also a class which is integer class\n",
        "print(type(x))"
      ],
      "metadata": {
        "colab": {
          "base_uri": "https://localhost:8080/"
        },
        "id": "Q3o-YiDoKJn_",
        "outputId": "83339e31-7449-4d77-9455-c3bba1361f99"
      },
      "execution_count": 7,
      "outputs": [
        {
          "output_type": "stream",
          "name": "stdout",
          "text": [
            "<class 'int'>\n"
          ]
        }
      ]
    },
    {
      "cell_type": "markdown",
      "source": [
        "**Modules and Packages**\n",
        "\n",
        "**Modules**\n",
        "A python file that has variables functions and/or classes\n",
        "\n",
        "**Packages**\n",
        "A folder that other packages and,or Modules"
      ],
      "metadata": {
        "id": "rjRn1wJmKZBL"
      }
    },
    {
      "cell_type": "code",
      "source": [
        "# import is used to module\n",
        "# here we import math module\n",
        "import math\n",
        "print(math.factorial(5))"
      ],
      "metadata": {
        "colab": {
          "base_uri": "https://localhost:8080/"
        },
        "id": "rIMlIztWLQEj",
        "outputId": "683b9ce9-5447-4103-9945-ebd8531ac3dd"
      },
      "execution_count": 9,
      "outputs": [
        {
          "output_type": "stream",
          "name": "stdout",
          "text": [
            "120\n"
          ]
        }
      ]
    },
    {
      "cell_type": "markdown",
      "source": [
        "**Python Installation**\n",
        "\n",
        "Download and install interpreter\n",
        "\n",
        "www.python.org\n",
        "\n",
        "Download and install an IDE\n",
        "pycharm\n",
        "vscode\n",
        "IDLE\n",
        "\n",
        "Or use online IDE\n",
        "ide.geeksforgreek.org"
      ],
      "metadata": {
        "id": "2Jc-HpkBMLr5"
      }
    },
    {
      "cell_type": "code",
      "source": [
        "#first python programm\n",
        "print(\"Hello world\")"
      ],
      "metadata": {
        "colab": {
          "base_uri": "https://localhost:8080/"
        },
        "id": "XYT96SyWNQEL",
        "outputId": "1d465c79-cb5d-4b40-8113-251ec4397b5b"
      },
      "execution_count": 10,
      "outputs": [
        {
          "output_type": "stream",
          "name": "stdout",
          "text": [
            "Hello world\n"
          ]
        }
      ]
    },
    {
      "cell_type": "markdown",
      "source": [
        "**Comments in python**\n",
        "\n",
        "Comments.\n",
        "\n",
        "\"\"\" This is a multi-line comment.\n",
        "\n",
        "It can be used to describe larger sections of code.\n",
        "\n",
        "\"\"\"\n",
        "\n",
        "\"\"\" This is a docstring.\n",
        "\n",
        "It can be used to describe larger sections of code.\n",
        "\n",
        "\"\"\"\n",
        "\n"
      ],
      "metadata": {
        "id": "fPWhFwdZPVKF"
      }
    },
    {
      "cell_type": "code",
      "source": [
        "# THis is an example comment\n",
        "print(\"Greeks for greek\")\n",
        "print(\"Hello\")"
      ],
      "metadata": {
        "colab": {
          "base_uri": "https://localhost:8080/"
        },
        "id": "LLsyg4HKPaE2",
        "outputId": "5121141a-6d9c-4d48-973a-6f850d558a8f"
      },
      "execution_count": 12,
      "outputs": [
        {
          "output_type": "stream",
          "name": "stdout",
          "text": [
            "Greeks for greek\n",
            "Hello\n"
          ]
        }
      ]
    },
    {
      "cell_type": "code",
      "source": [
        "#function to remove special\n",
        "#charctes,trailing and\n",
        "#loading spaces from interpreter\n",
        "#def processinput(inputstr):"
      ],
      "metadata": {
        "id": "7ekBTtWzPqK2"
      },
      "execution_count": 15,
      "outputs": []
    },
    {
      "cell_type": "markdown",
      "source": [
        "**Variables in Python**"
      ],
      "metadata": {
        "id": "GExNEE4zQknb"
      }
    },
    {
      "cell_type": "code",
      "source": [
        "age=38\n",
        "name=\"anjali\"\n",
        "weight=58.5\n",
        "print(age)\n",
        "print(name)\n",
        "print(weight)"
      ],
      "metadata": {
        "colab": {
          "base_uri": "https://localhost:8080/"
        },
        "id": "EtLHvovEQpJ9",
        "outputId": "307c1276-c176-401f-865b-e1113704c3aa"
      },
      "execution_count": 16,
      "outputs": [
        {
          "output_type": "stream",
          "name": "stdout",
          "text": [
            "38\n",
            "anjali\n",
            "58.5\n"
          ]
        }
      ]
    },
    {
      "cell_type": "code",
      "source": [
        "price=100\n",
        "tax=18\n",
        "total=price+tax\n",
        "print(total)"
      ],
      "metadata": {
        "colab": {
          "base_uri": "https://localhost:8080/"
        },
        "id": "urOIvJHQQ3GB",
        "outputId": "0d77cba6-ab1d-4e50-95f7-04448786b50b"
      },
      "execution_count": 17,
      "outputs": [
        {
          "output_type": "stream",
          "name": "stdout",
          "text": [
            "118\n"
          ]
        }
      ]
    },
    {
      "cell_type": "code",
      "source": [
        "x=\"10\"\n",
        "y=\"greek\"\n",
        "z=20\n",
        "w=z\n",
        "print(x,y,z,w)"
      ],
      "metadata": {
        "colab": {
          "base_uri": "https://localhost:8080/"
        },
        "id": "VYdarWlvRChs",
        "outputId": "b82b8248-1fc3-4c40-c9c1-e5d3beed7526"
      },
      "execution_count": 19,
      "outputs": [
        {
          "output_type": "stream",
          "name": "stdout",
          "text": [
            "10 greek 20 20\n"
          ]
        }
      ]
    },
    {
      "cell_type": "code",
      "source": [
        "#python is dtnamically type\n",
        "x=10\n",
        "print(x)\n",
        "x=\"greek\"\n",
        "print(x)"
      ],
      "metadata": {
        "colab": {
          "base_uri": "https://localhost:8080/"
        },
        "id": "_YodhpuaRRFH",
        "outputId": "a9567884-65de-4bb6-ec00-876df265519e"
      },
      "execution_count": 20,
      "outputs": [
        {
          "output_type": "stream",
          "name": "stdout",
          "text": [
            "10\n",
            "greek\n"
          ]
        }
      ]
    },
    {
      "cell_type": "code",
      "source": [
        "is_valid=True\n",
        "marks=90\n",
        "pi=3.14\n",
        "city_name=\"Noida\"\n",
        "print(is_valid,marks,pi,city_name)"
      ],
      "metadata": {
        "colab": {
          "base_uri": "https://localhost:8080/"
        },
        "id": "JVMPa8NsRyPm",
        "outputId": "5080d606-b44e-4779-b1c4-d3696a0766fc"
      },
      "execution_count": 25,
      "outputs": [
        {
          "output_type": "stream",
          "name": "stdout",
          "text": [
            "True 90 3.14 Noida"
          ]
        }
      ]
    },
    {
      "cell_type": "code",
      "source": [
        "# using a variable without assigning it cause erros\n",
        "x=None # it is a special value in python\n",
        "print(x)"
      ],
      "metadata": {
        "colab": {
          "base_uri": "https://localhost:8080/"
        },
        "id": "LdKY-leKSQAf",
        "outputId": "d1a3edbb-b469-4cd6-84b7-d5dd4dd1ec99"
      },
      "execution_count": 26,
      "outputs": [
        {
          "output_type": "stream",
          "name": "stdout",
          "text": [
            "None\n"
          ]
        }
      ]
    }
  ]
}